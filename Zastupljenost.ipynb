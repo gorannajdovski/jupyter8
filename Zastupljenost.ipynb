{
 "cells": [
  {
   "cell_type": "code",
   "execution_count": null,
   "id": "04b37e26-56aa-4ac0-a5af-907618f0f3db",
   "metadata": {},
   "outputs": [],
   "source": [
    "element=[\"kiseonik\", \"ugljenik\", \"vodonik\", \"azot\", \"ostali\"]\n",
    "procenat=[65,18.5, 9.5,3.2,3.8]"
   ]
  }
 ],
 "metadata": {
  "kernelspec": {
   "display_name": "Python 3 (ipykernel)",
   "language": "python",
   "name": "python3"
  },
  "language_info": {
   "codemirror_mode": {
    "name": "ipython",
    "version": 3
   },
   "file_extension": ".py",
   "mimetype": "text/x-python",
   "name": "python",
   "nbconvert_exporter": "python",
   "pygments_lexer": "ipython3",
   "version": "3.10.12"
  }
 },
 "nbformat": 4,
 "nbformat_minor": 5
}

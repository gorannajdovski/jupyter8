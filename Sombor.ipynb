{
 "cells": [
  {
   "cell_type": "code",
   "execution_count": null,
   "id": "8abb9ebb-1f43-4ad7-b882-ed9a76720065",
   "metadata": {},
   "outputs": [],
   "source": [
    "mesec=[\"jan\", \"feb\", \"mar\", \"apr\", \"maj\", \"jun\", \"jul\", \"avg\", \"sep\", \"okt\", \"nov\", \"dec\"]\n",
    "maksimum=[19.3, 21.3, 26.4, 29.2, 34.5, 37.1, 40.3, 39.5, 35.7, 29.4, 24.3, 20.7]\n",
    "minimum=[-26.8, -22.0, -20.3, -5.6, 0.7, 4.0, 7.3, 5.6, 1.5, -6.9, -18.4, -23.7]"
   ]
  }
 ],
 "metadata": {
  "kernelspec": {
   "display_name": "Python 3 (ipykernel)",
   "language": "python",
   "name": "python3"
  },
  "language_info": {
   "codemirror_mode": {
    "name": "ipython",
    "version": 3
   },
   "file_extension": ".py",
   "mimetype": "text/x-python",
   "name": "python",
   "nbconvert_exporter": "python",
   "pygments_lexer": "ipython3",
   "version": "3.10.12"
  }
 },
 "nbformat": 4,
 "nbformat_minor": 5
}
